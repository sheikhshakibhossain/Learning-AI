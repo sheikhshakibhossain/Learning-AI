{
 "cells": [
  {
   "cell_type": "code",
   "execution_count": 376,
   "metadata": {},
   "outputs": [],
   "source": [
    "import copy\n",
    "import numpy as np"
   ]
  },
  {
   "cell_type": "code",
   "execution_count": 377,
   "metadata": {},
   "outputs": [],
   "source": [
    "class Puzzle:\n",
    "    def __init__(self, board=None):\n",
    "        # red = 0, green = 1, yellow = 2\n",
    "        if board is None:\n",
    "            # 6x6 grid with 3 random colors (0, 1, 2)\n",
    "            self.board = np.random.randint(0, 3, (6, 6))\n",
    "        else:\n",
    "            self.board = board\n",
    "        self.g = 0\n",
    "        self.h = 0\n",
    "        self.parent = None\n",
    "        self.action_color = None\n",
    "        self.start_color = self.board[0, 0]\n",
    "\n",
    "    def printState(self):\n",
    "        print(\"*******************\")\n",
    "        print(self.board)\n",
    "        print(\"*******************\")\n",
    "\n",
    "    def floodFill(self, color):\n",
    "        new_board = copy.deepcopy(self.board)\n",
    "        self.floodFillUtil(new_board, 0, 0, self.start_color, color)\n",
    "        return Puzzle(new_board)\n",
    "\n",
    "    def floodFillUtil(self, board, x, y, prev_color, new_color):\n",
    "        if x < 0 or x >= 6 or y < 0 or y >= 6:\n",
    "            return\n",
    "        if board[x][y] != prev_color or board[x][y] == new_color:\n",
    "            return\n",
    "\n",
    "        board[x][y] = new_color\n",
    "\n",
    "        self.floodFillUtil(board, x + 1, y, prev_color, new_color)\n",
    "        self.floodFillUtil(board, x - 1, y, prev_color, new_color)\n",
    "        self.floodFillUtil(board, x, y + 1, prev_color, new_color)\n",
    "        self.floodFillUtil(board, x, y - 1, prev_color, new_color)\n",
    "\n",
    "    def __eq__(self, otherNode):\n",
    "        if otherNode is None:\n",
    "            return False\n",
    "        return np.array_equal(self.board, otherNode.board)\n",
    "\n",
    "    def __hash__(self):\n",
    "        return hash(str(self.board))\n"
   ]
  },
  {
   "cell_type": "code",
   "execution_count": 378,
   "metadata": {},
   "outputs": [
    {
     "name": "stdout",
     "output_type": "stream",
     "text": [
      "*******************\n",
      "[[2 2 2 0 1 1]\n",
      " [2 0 0 0 0 0]\n",
      " [0 0 2 1 1 0]\n",
      " [2 1 0 0 1 2]\n",
      " [1 1 1 1 2 2]\n",
      " [2 1 2 0 0 2]]\n",
      "*******************\n"
     ]
    }
   ],
   "source": [
    "board = Puzzle()\n",
    "board.printState()"
   ]
  },
  {
   "cell_type": "code",
   "execution_count": 379,
   "metadata": {},
   "outputs": [],
   "source": [
    "def goalTest(node):\n",
    "    return np.all(node.board == node.board[0, 0])"
   ]
  },
  {
   "cell_type": "code",
   "execution_count": 380,
   "metadata": {},
   "outputs": [
    {
     "data": {
      "text/plain": [
       "False"
      ]
     },
     "execution_count": 380,
     "metadata": {},
     "output_type": "execute_result"
    }
   ],
   "source": [
    "goalTest(board)"
   ]
  },
  {
   "cell_type": "code",
   "execution_count": 381,
   "metadata": {},
   "outputs": [],
   "source": [
    "def connectedCells(board, x, y, target_color, visited):\n",
    "    if x < 0 or x >= 6 or y < 0 or y >= 6:\n",
    "        return 0\n",
    "    if board[x][y] != target_color or visited[x][y] == 1:\n",
    "        return 0\n",
    "\n",
    "    visited[x][y] = 1\n",
    "    count = 1\n",
    "    count += connectedCells(board, x + 1, y, target_color, visited)\n",
    "    count += connectedCells(board, x - 1, y, target_color, visited)\n",
    "    count += connectedCells(board, x, y + 1, target_color, visited)\n",
    "    count += connectedCells(board, x, y - 1, target_color, visited)\n",
    "    return count\n",
    "\n",
    "def calculateConnectedCells(node):\n",
    "    #  no of connected cells with the same color as [0][0]\n",
    "    target_color = node.board[0, 0]\n",
    "    visited = np.zeros_like(node.board)\n",
    "    return connectedCells(node.board, 0, 0, target_color, visited)"
   ]
  },
  {
   "cell_type": "code",
   "execution_count": 382,
   "metadata": {},
   "outputs": [
    {
     "name": "stdout",
     "output_type": "stream",
     "text": [
      "*******************\n",
      "[[2 2 2 0 1 1]\n",
      " [2 0 0 0 0 0]\n",
      " [0 0 2 1 1 0]\n",
      " [2 1 0 0 1 2]\n",
      " [1 1 1 1 2 2]\n",
      " [2 1 2 0 0 2]]\n",
      "*******************\n"
     ]
    },
    {
     "data": {
      "text/plain": [
       "4"
      ]
     },
     "execution_count": 382,
     "metadata": {},
     "output_type": "execute_result"
    }
   ],
   "source": [
    "board.printState()\n",
    "calculateConnectedCells(board)"
   ]
  },
  {
   "cell_type": "code",
   "execution_count": 383,
   "metadata": {},
   "outputs": [],
   "source": [
    "def manhattanDistanceHeuristic(node):\n",
    "    total_distance = 0\n",
    "    target_color = node.board[0, 0]\n",
    "    for x in range(6):\n",
    "        for y in range(6):\n",
    "            if node.board[x][y] != target_color:\n",
    "                total_distance += abs(x - 0) + abs(y - 0)\n",
    "    return total_distance"
   ]
  },
  {
   "cell_type": "code",
   "execution_count": 384,
   "metadata": {},
   "outputs": [],
   "source": [
    "\n",
    "def h1(node):\n",
    "    # h1: no of unique colors on the board (minus 1 for the current color)\n",
    "    unique_colors = len(np.unique(node.board)) - 1\n",
    "    return unique_colors"
   ]
  },
  {
   "cell_type": "code",
   "execution_count": 385,
   "metadata": {},
   "outputs": [
    {
     "data": {
      "text/plain": [
       "2"
      ]
     },
     "execution_count": 385,
     "metadata": {},
     "output_type": "execute_result"
    }
   ],
   "source": [
    "h1(board)"
   ]
  },
  {
   "cell_type": "code",
   "execution_count": 386,
   "metadata": {},
   "outputs": [],
   "source": [
    "def sumOfGandH(node):\n",
    "    return node.g + node.h"
   ]
  },
  {
   "cell_type": "code",
   "execution_count": 387,
   "metadata": {},
   "outputs": [
    {
     "data": {
      "text/plain": [
       "0"
      ]
     },
     "execution_count": 387,
     "metadata": {},
     "output_type": "execute_result"
    }
   ],
   "source": [
    "sumOfGandH(board)"
   ]
  },
  {
   "cell_type": "code",
   "execution_count": 388,
   "metadata": {},
   "outputs": [],
   "source": [
    "def a_star_search(initialNode):\n",
    "    if goalTest(initialNode):\n",
    "        return initialNode\n",
    "\n",
    "    frontier = list()  # queue\n",
    "    explored = set()\n",
    "\n",
    "    initialNode.g = 0\n",
    "    initialNode.h = manhattanDistanceHeuristic(initialNode) - calculateConnectedCells(initialNode)\n",
    "    frontier.append(initialNode)\n",
    "\n",
    "    while frontier:\n",
    "        frontier.sort(key=sumOfGandH)\n",
    "        node = frontier.pop(0)\n",
    "        explored.add(node)\n",
    "\n",
    "        # all 3 colors as actions (excluding the current start color)\n",
    "        actions = [c for c in [0, 1, 2] if c != node.board[0, 0]]\n",
    "\n",
    "        for color in actions:\n",
    "            child = node.floodFill(color)\n",
    "            child.g = node.g + 1\n",
    "            child.h = manhattanDistanceHeuristic(initialNode) - calculateConnectedCells(initialNode)\n",
    "            child.parent = node\n",
    "            child.action_color = color\n",
    "\n",
    "            if goalTest(child):\n",
    "                return child\n",
    "\n",
    "            if child not in frontier and child not in explored:\n",
    "                frontier.append(child)\n",
    "\n",
    "    return None"
   ]
  },
  {
   "cell_type": "code",
   "execution_count": 389,
   "metadata": {},
   "outputs": [],
   "source": [
    "def printSolution(state):\n",
    "    if state is None:\n",
    "        return\n",
    "    printSolution(state.parent)\n",
    "   \n",
    "    # red = 0, green = 1, yellow = 2\n",
    "    color = state.action_color\n",
    "    if color == 0:\n",
    "        action = 'Action: R'\n",
    "    elif color == 1:\n",
    "        action = 'Action: G'\n",
    "    elif color == 2:\n",
    "        action = 'Action: Y'\n",
    "    \n",
    "    if state.action_color is not None:\n",
    "        print(action)\n",
    "        state.printState()"
   ]
  },
  {
   "cell_type": "code",
   "execution_count": 390,
   "metadata": {},
   "outputs": [
    {
     "name": "stdout",
     "output_type": "stream",
     "text": [
      "Initial:\n",
      "*******************\n",
      "[[2 2 2 0 1 1]\n",
      " [2 0 0 0 0 0]\n",
      " [0 0 2 1 1 0]\n",
      " [2 1 0 0 1 2]\n",
      " [1 1 1 1 2 2]\n",
      " [2 1 2 0 0 2]]\n",
      "*******************\n",
      "Solution:\n",
      "Action: R\n",
      "*******************\n",
      "[[0 0 0 0 1 1]\n",
      " [0 0 0 0 0 0]\n",
      " [0 0 2 1 1 0]\n",
      " [2 1 0 0 1 2]\n",
      " [1 1 1 1 2 2]\n",
      " [2 1 2 0 0 2]]\n",
      "*******************\n",
      "Action: G\n",
      "*******************\n",
      "[[1 1 1 1 1 1]\n",
      " [1 1 1 1 1 1]\n",
      " [1 1 2 1 1 1]\n",
      " [2 1 0 0 1 2]\n",
      " [1 1 1 1 2 2]\n",
      " [2 1 2 0 0 2]]\n",
      "*******************\n",
      "Action: R\n",
      "*******************\n",
      "[[0 0 0 0 0 0]\n",
      " [0 0 0 0 0 0]\n",
      " [0 0 2 0 0 0]\n",
      " [2 0 0 0 0 2]\n",
      " [0 0 0 0 2 2]\n",
      " [2 0 2 0 0 2]]\n",
      "*******************\n",
      "Action: Y\n",
      "*******************\n",
      "[[2 2 2 2 2 2]\n",
      " [2 2 2 2 2 2]\n",
      " [2 2 2 2 2 2]\n",
      " [2 2 2 2 2 2]\n",
      " [2 2 2 2 2 2]\n",
      " [2 2 2 2 2 2]]\n",
      "*******************\n"
     ]
    }
   ],
   "source": [
    "print(\"Initial:\")\n",
    "board.printState()\n",
    "\n",
    "result = a_star_search(board)\n",
    "print(\"Solution:\")\n",
    "printSolution(result)"
   ]
  }
 ],
 "metadata": {
  "kernelspec": {
   "display_name": "Python 3",
   "language": "python",
   "name": "python3"
  },
  "language_info": {
   "codemirror_mode": {
    "name": "ipython",
    "version": 3
   },
   "file_extension": ".py",
   "mimetype": "text/x-python",
   "name": "python",
   "nbconvert_exporter": "python",
   "pygments_lexer": "ipython3",
   "version": "3.12.3"
  }
 },
 "nbformat": 4,
 "nbformat_minor": 2
}
