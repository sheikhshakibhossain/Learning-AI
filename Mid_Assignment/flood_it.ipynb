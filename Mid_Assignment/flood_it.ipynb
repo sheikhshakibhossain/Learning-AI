{
 "cells": [
  {
   "cell_type": "code",
   "execution_count": 41,
   "metadata": {},
   "outputs": [],
   "source": [
    "import copy as cp\n",
    "import numpy as np"
   ]
  },
  {
   "cell_type": "code",
   "execution_count": 42,
   "metadata": {},
   "outputs": [],
   "source": [
    "class Puzzle:\n",
    "    RED = 1\n",
    "    GREEN = 2\n",
    "    YELLOW = 3\n",
    "    SIZE = 6\n",
    "    def __init__(self):\n",
    "        self.board = np.random.choice([Puzzle.RED, Puzzle.GREEN,Puzzle.YELLOW],(Puzzle.SIZE,Puzzle.SIZE))\n",
    "    def __str__(self):\n",
    "        return str(self.board)\n",
    "    \n",
    "    def goal_test(self):\n",
    "        if np.all(self.board == 1) or np.all(self.board == 2) or np.all(self.board == 3):\n",
    "            return True\n",
    "        return False\n",
    "    \n",
    "    # Actions\n",
    "    def fill_green(self):\n",
    "        visited = np.zeros_like(self.board)\n",
    "        child = cp.deepcopy(self)\n",
    "        child.board[0][0] = Puzzle.GREEN\n",
    "        child = self.fill_color(node=child, color=Puzzle.GREEN, visited=visited, row=0, col=0)\n",
    "        return child\n",
    "    \n",
    "    def fill_color(self, node, color, visited, row, col):\n",
    "        # check left, right, up, down if they have green color\n",
    "        # if yes then move to that cell and recursively check it's neighbours\n",
    "        if row < 0 or row > Puzzle.SIZE or col < 0 or col > Puzzle.SIZE:\n",
    "            return node\n",
    "        elif visited[row][col] == 1: # already visited\n",
    "            return node\n",
    "        elif visited[row][col] != Puzzle.GREEN:\n",
    "            return node\n",
    "        \n",
    "        visited[row][col] = 1\n",
    "        node.board[row][col] = color\n",
    "        node = self.fill_color(node=node, color=Puzzle.GREEN, visited=visited, row=row+1, col=col)\n",
    "        node = self.fill_color(node=node, color=Puzzle.GREEN, visited=visited, row=row-1, col=col)\n",
    "        node = self.fill_color(node=node, color=Puzzle.GREEN, visited=visited, row=row, col=col+1)\n",
    "        node = self.fill_color(node=node, color=Puzzle.GREEN, visited=visited, row=row, col=col-1)\n",
    "        return node\n",
    "        \n",
    "\n"
   ]
  },
  {
   "cell_type": "code",
   "execution_count": 43,
   "metadata": {},
   "outputs": [
    {
     "name": "stdout",
     "output_type": "stream",
     "text": [
      "[[2 2 3 2 1 2]\n",
      " [1 3 3 3 1 3]\n",
      " [1 3 1 1 3 1]\n",
      " [1 3 1 1 1 1]\n",
      " [1 1 3 3 2 1]\n",
      " [3 1 2 2 1 3]]\n"
     ]
    },
    {
     "data": {
      "text/plain": [
       "False"
      ]
     },
     "execution_count": 43,
     "metadata": {},
     "output_type": "execute_result"
    }
   ],
   "source": [
    "board = Puzzle()\n",
    "print(board)\n",
    "board.goal_test()"
   ]
  },
  {
   "cell_type": "code",
   "execution_count": 44,
   "metadata": {},
   "outputs": [
    {
     "name": "stdout",
     "output_type": "stream",
     "text": [
      "[[2 2 3 2 1 2]\n",
      " [1 3 3 3 1 3]\n",
      " [1 3 1 1 3 1]\n",
      " [1 3 1 1 1 1]\n",
      " [1 1 3 3 2 1]\n",
      " [3 1 2 2 1 3]]\n"
     ]
    }
   ],
   "source": [
    "child = board.fill_green()\n",
    "print(child)"
   ]
  }
 ],
 "metadata": {
  "kernelspec": {
   "display_name": "Python 3",
   "language": "python",
   "name": "python3"
  },
  "language_info": {
   "codemirror_mode": {
    "name": "ipython",
    "version": 3
   },
   "file_extension": ".py",
   "mimetype": "text/x-python",
   "name": "python",
   "nbconvert_exporter": "python",
   "pygments_lexer": "ipython3",
   "version": "3.12.3"
  }
 },
 "nbformat": 4,
 "nbformat_minor": 2
}
