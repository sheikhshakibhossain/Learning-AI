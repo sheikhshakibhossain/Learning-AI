{
 "cells": [
  {
   "cell_type": "code",
   "execution_count": 188,
   "metadata": {},
   "outputs": [],
   "source": [
    "import numpy as np\n",
    "import pandas as pd"
   ]
  },
  {
   "cell_type": "code",
   "execution_count": 194,
   "metadata": {},
   "outputs": [],
   "source": [
    "datapath = 'dataset2.xlsx'"
   ]
  },
  {
   "cell_type": "code",
   "execution_count": 189,
   "metadata": {},
   "outputs": [],
   "source": [
    "dataFrame = pd.read_excel(datapath)"
   ]
  },
  {
   "cell_type": "code",
   "execution_count": 195,
   "metadata": {},
   "outputs": [
    {
     "name": "stdout",
     "output_type": "stream",
     "text": [
      "   SN  Study Hours  Attendance  Home Works Done  Papers Read  Total Marks  \\\n",
      "0   1          4.0          60                6            4        600.0   \n",
      "1   2          7.0           2                9            0        405.0   \n",
      "2   3          2.0          45                5            1        337.5   \n",
      "3   4          7.5          86                8            4        802.5   \n",
      "\n",
      "    Level  \n",
      "0  Medium  \n",
      "1     Low  \n",
      "2     Low  \n",
      "3    High  \n"
     ]
    }
   ],
   "source": [
    "print(dataFrame)"
   ]
  },
  {
   "cell_type": "code",
   "execution_count": 191,
   "metadata": {},
   "outputs": [],
   "source": [
    "dataSet = dataFrame.to_numpy()"
   ]
  },
  {
   "cell_type": "code",
   "execution_count": 190,
   "metadata": {},
   "outputs": [
    {
     "name": "stdout",
     "output_type": "stream",
     "text": [
      "[[1 4.0 60 6 4 600.0 'Medium']\n",
      " [2 7.0 2 9 0 405.0 'Low']\n",
      " [3 2.0 45 5 1 337.5 'Low']\n",
      " [4 7.5 86 8 4 802.5 'High']]\n"
     ]
    }
   ],
   "source": [
    "print(dataSet)"
   ]
  },
  {
   "cell_type": "code",
   "execution_count": 193,
   "metadata": {},
   "outputs": [
    {
     "name": "stdout",
     "output_type": "stream",
     "text": [
      "4\n",
      "7\n"
     ]
    }
   ],
   "source": [
    "total_rows = 0\n",
    "for i in dataSet:\n",
    "    total_rows += 1\n",
    "\n",
    "print(total_rows)\n",
    "\n",
    "total_cols = 0\n",
    "for i in dataSet[0]:\n",
    "    total_cols += 1\n",
    "\n",
    "print(total_cols)"
   ]
  },
  {
   "cell_type": "code",
   "execution_count": 192,
   "metadata": {},
   "outputs": [
    {
     "name": "stdout",
     "output_type": "stream",
     "text": [
      "[[4.0 60 6 4]\n",
      " [7.0 2 9 0]\n",
      " [2.0 45 5 1]\n",
      " [7.5 86 8 4]]\n"
     ]
    }
   ],
   "source": [
    "x_axix = dataSet[0:total_rows, 1:5]\n",
    "print(x_axix)"
   ]
  },
  {
   "cell_type": "code",
   "execution_count": 200,
   "metadata": {},
   "outputs": [
    {
     "name": "stdout",
     "output_type": "stream",
     "text": [
      "[600.0 405.0 337.5 802.5]\n"
     ]
    }
   ],
   "source": [
    "y_axis = dataSet[0:total_rows, total_cols-2]\n",
    "print(y_axis)"
   ]
  },
  {
   "cell_type": "code",
   "execution_count": 198,
   "metadata": {},
   "outputs": [],
   "source": [
    "def eucledianDistance(x1, x2):\n",
    "    # study hours, attendance, assignments, research papers\n",
    "    #           1,          2,           3,               4\n",
    "    distance = (x1[0]-x2[0])**2 + (x1[1]-x2[1])**2 + (x1[2]-x2[2])**2 + (x1[3]-x2[3])**2\n",
    "    distance = distance**0.5 \n",
    "    return distance"
   ]
  },
  {
   "cell_type": "code",
   "execution_count": 196,
   "metadata": {},
   "outputs": [
    {
     "data": {
      "text/plain": [
       "30.083217912982647"
      ]
     },
     "execution_count": 196,
     "metadata": {},
     "output_type": "execute_result"
    }
   ],
   "source": [
    "x_test = np.array([6, 90, 5, 4])\n",
    "eucledianDistance(x_axix[0], x_test)"
   ]
  },
  {
   "cell_type": "code",
   "execution_count": 197,
   "metadata": {},
   "outputs": [],
   "source": [
    "def applyKNN(input_data):\n",
    "    distances = []\n",
    "    for i in x_axix:\n",
    "        d = eucledianDistance(i, input_data)\n",
    "        distances.append(d)\n",
    "    \n",
    "    distances = np.array(distances)\n",
    "\n",
    "    k = 3\n",
    "    sortedDistancesIndex = np.argsort(distances)\n",
    "    sortedDistancesIndex = sortedDistancesIndex[0:k]\n",
    "    # print(sortedDistancesIndex)\n",
    "\n",
    "\n",
    "    avg = 0\n",
    "    for i in sortedDistancesIndex:\n",
    "        avg += y_axis[i]\n",
    "    \n",
    "    avg /= k\n",
    "    return avg\n"
   ]
  },
  {
   "cell_type": "code",
   "execution_count": 199,
   "metadata": {},
   "outputs": [
    {
     "name": "stdout",
     "output_type": "stream",
     "text": [
      "[600.0 405.0 337.5 802.5]\n",
      "[580.0, 447.5, 580.0, 580.0]\n"
     ]
    }
   ],
   "source": [
    "actual_values = y_axis\n",
    "predicted_vaules = []\n",
    "\n",
    "for x in x_axix:\n",
    "    # print(x)\n",
    "    val = applyKNN(x)\n",
    "    predicted_vaules.append(val)\n",
    "    # print(val)\n",
    "\n",
    "print(actual_values)\n",
    "print(predicted_vaules)"
   ]
  }
 ],
 "metadata": {
  "kernelspec": {
   "display_name": "Python 3",
   "language": "python",
   "name": "python3"
  },
  "language_info": {
   "codemirror_mode": {
    "name": "ipython",
    "version": 3
   },
   "file_extension": ".py",
   "mimetype": "text/x-python",
   "name": "python",
   "nbconvert_exporter": "python",
   "pygments_lexer": "ipython3",
   "version": "3.10.12"
  }
 },
 "nbformat": 4,
 "nbformat_minor": 2
}
