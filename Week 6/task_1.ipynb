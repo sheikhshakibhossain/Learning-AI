{
 "cells": [
  {
   "cell_type": "code",
   "execution_count": 3,
   "metadata": {},
   "outputs": [],
   "source": [
    "import numpy as np\n",
    "import pandas as pd"
   ]
  },
  {
   "cell_type": "code",
   "execution_count": 4,
   "metadata": {},
   "outputs": [],
   "source": [
    "datapath = 'dataset1.xlsx'"
   ]
  },
  {
   "cell_type": "code",
   "execution_count": 5,
   "metadata": {},
   "outputs": [],
   "source": [
    "dataFrame = pd.read_excel(datapath)"
   ]
  },
  {
   "cell_type": "code",
   "execution_count": 6,
   "metadata": {},
   "outputs": [
    {
     "name": "stdout",
     "output_type": "stream",
     "text": [
      "    SN  Study Hours  Attendance  Home Works Done  Papers Read  Total Marks  \\\n",
      "0    1          8.0          90                9            4        850.0   \n",
      "1    2          7.0          99                9            3        797.5   \n",
      "2    3          9.0          85               10            5        937.5   \n",
      "3    4          7.5          86                8            4        802.5   \n",
      "4    5          8.5          92                8            3        792.5   \n",
      "5    6          6.0          65                6            2        562.5   \n",
      "6    7          5.0          73                6            2        557.5   \n",
      "7    8          5.5          80                6            1        537.5   \n",
      "8    9          5.0          60                6            2        525.0   \n",
      "9   10          4.5          62                6            2        517.5   \n",
      "10  11          2.0          45                2            1        262.5   \n",
      "11  12          3.0          35                2            1        262.5   \n",
      "12  13          2.5          33                1            1        220.0   \n",
      "13  14          1.0          46                1            0        165.0   \n",
      "14  15          2.0          58                2            0        245.0   \n",
      "\n",
      "     Level  \n",
      "0     High  \n",
      "1     High  \n",
      "2     High  \n",
      "3     High  \n",
      "4     High  \n",
      "5   Medium  \n",
      "6   Medium  \n",
      "7   Medium  \n",
      "8   Medium  \n",
      "9   Medium  \n",
      "10     Low  \n",
      "11     Low  \n",
      "12     Low  \n",
      "13     Low  \n",
      "14     Low  \n"
     ]
    }
   ],
   "source": [
    "print(dataFrame)"
   ]
  },
  {
   "cell_type": "code",
   "execution_count": 7,
   "metadata": {},
   "outputs": [],
   "source": [
    "dataSet = dataFrame.to_numpy()"
   ]
  },
  {
   "cell_type": "code",
   "execution_count": 8,
   "metadata": {},
   "outputs": [
    {
     "name": "stdout",
     "output_type": "stream",
     "text": [
      "[[1 8.0 90 9 4 850.0 'High']\n",
      " [2 7.0 99 9 3 797.5 'High']\n",
      " [3 9.0 85 10 5 937.5 'High']\n",
      " [4 7.5 86 8 4 802.5 'High']\n",
      " [5 8.5 92 8 3 792.5 'High']\n",
      " [6 6.0 65 6 2 562.5 'Medium']\n",
      " [7 5.0 73 6 2 557.5 'Medium']\n",
      " [8 5.5 80 6 1 537.5 'Medium']\n",
      " [9 5.0 60 6 2 525.0 'Medium']\n",
      " [10 4.5 62 6 2 517.5 'Medium']\n",
      " [11 2.0 45 2 1 262.5 'Low']\n",
      " [12 3.0 35 2 1 262.5 'Low']\n",
      " [13 2.5 33 1 1 220.0 'Low']\n",
      " [14 1.0 46 1 0 165.0 'Low']\n",
      " [15 2.0 58 2 0 245.0 'Low']]\n"
     ]
    }
   ],
   "source": [
    "print(dataSet)"
   ]
  },
  {
   "cell_type": "code",
   "execution_count": 9,
   "metadata": {},
   "outputs": [
    {
     "name": "stdout",
     "output_type": "stream",
     "text": [
      "15\n",
      "7\n"
     ]
    }
   ],
   "source": [
    "total_rows = 0\n",
    "for i in dataSet:\n",
    "    total_rows += 1\n",
    "\n",
    "print(total_rows)\n",
    "\n",
    "total_cols = 0\n",
    "for i in dataSet[0]:\n",
    "    total_cols += 1\n",
    "\n",
    "print(total_cols)"
   ]
  },
  {
   "cell_type": "code",
   "execution_count": 10,
   "metadata": {},
   "outputs": [
    {
     "name": "stdout",
     "output_type": "stream",
     "text": [
      "[[1 8.0 90 9 4]\n",
      " [2 7.0 99 9 3]\n",
      " [3 9.0 85 10 5]\n",
      " [4 7.5 86 8 4]\n",
      " [5 8.5 92 8 3]\n",
      " [6 6.0 65 6 2]\n",
      " [7 5.0 73 6 2]\n",
      " [8 5.5 80 6 1]\n",
      " [9 5.0 60 6 2]\n",
      " [10 4.5 62 6 2]\n",
      " [11 2.0 45 2 1]\n",
      " [12 3.0 35 2 1]\n",
      " [13 2.5 33 1 1]\n",
      " [14 1.0 46 1 0]\n",
      " [15 2.0 58 2 0]]\n"
     ]
    }
   ],
   "source": [
    "x_axix = dataSet[0:total_rows, 0:total_cols-2]\n",
    "print(x_axix)"
   ]
  },
  {
   "cell_type": "code",
   "execution_count": 11,
   "metadata": {},
   "outputs": [
    {
     "name": "stdout",
     "output_type": "stream",
     "text": [
      "[850.0 797.5 937.5 802.5 792.5 562.5 557.5 537.5 525.0 517.5 262.5 262.5\n",
      " 220.0 165.0 245.0]\n"
     ]
    }
   ],
   "source": [
    "y_axis = dataSet[0:total_rows, total_cols-2]\n",
    "print(y_axis)"
   ]
  },
  {
   "cell_type": "code",
   "execution_count": 12,
   "metadata": {},
   "outputs": [],
   "source": [
    "def eucledianDistance(x1, x2):\n",
    "    # study hours, attendance, assignments, research papers\n",
    "    #           1,          2,           3,               4\n",
    "    distance = (x1[1]-x2[0])**2 + (x1[2]-x2[1])**2 + (x1[3]-x2[2])**2 + (x1[4]-x2[3])**2\n",
    "    distance = distance**0.5 \n",
    "    return distance"
   ]
  },
  {
   "cell_type": "code",
   "execution_count": 13,
   "metadata": {},
   "outputs": [
    {
     "data": {
      "text/plain": [
       "4.47213595499958"
      ]
     },
     "execution_count": 13,
     "metadata": {},
     "output_type": "execute_result"
    }
   ],
   "source": [
    "x_test = np.array([6, 90, 5, 4])\n",
    "eucledianDistance(x_axix[0], x_test)"
   ]
  },
  {
   "cell_type": "code",
   "execution_count": 14,
   "metadata": {},
   "outputs": [],
   "source": [
    "def applyKNN(input_data):\n",
    "    distances = []\n",
    "    for i in x_axix:\n",
    "        d = eucledianDistance(i, input_data)\n",
    "        distances.append(d)\n",
    "    \n",
    "    distances = np.array(distances)\n",
    "\n",
    "    k = 3\n",
    "    sortedDistancesIndex = np.argsort(distances)\n",
    "    sortedDistancesIndex = sortedDistancesIndex[0:k]\n",
    "    # print(sortedDistancesIndex)\n",
    "\n",
    "\n",
    "    avg = 0\n",
    "    for i in sortedDistancesIndex:\n",
    "        avg += y_axis[i]\n",
    "    \n",
    "    avg /= k\n",
    "    return avg\n"
   ]
  },
  {
   "cell_type": "code",
   "execution_count": 15,
   "metadata": {},
   "outputs": [
    {
     "data": {
      "text/plain": [
       "815.0"
      ]
     },
     "execution_count": 15,
     "metadata": {},
     "output_type": "execute_result"
    }
   ],
   "source": [
    "applyKNN(x_test)"
   ]
  }
 ],
 "metadata": {
  "kernelspec": {
   "display_name": "Python 3",
   "language": "python",
   "name": "python3"
  },
  "language_info": {
   "codemirror_mode": {
    "name": "ipython",
    "version": 3
   },
   "file_extension": ".py",
   "mimetype": "text/x-python",
   "name": "python",
   "nbconvert_exporter": "python",
   "pygments_lexer": "ipython3",
   "version": "3.12.3"
  }
 },
 "nbformat": 4,
 "nbformat_minor": 2
}
