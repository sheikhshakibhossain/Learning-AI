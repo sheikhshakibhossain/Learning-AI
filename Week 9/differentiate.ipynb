{
 "cells": [
  {
   "cell_type": "code",
   "execution_count": 34,
   "metadata": {},
   "outputs": [],
   "source": [
    "import tensorflow as tf\n",
    "import numpy as np"
   ]
  },
  {
   "cell_type": "code",
   "execution_count": 35,
   "metadata": {},
   "outputs": [
    {
     "name": "stdout",
     "output_type": "stream",
     "text": [
      "tf.Tensor([8.], shape=(1,), dtype=float64)\n",
      "[8.]\n"
     ]
    }
   ],
   "source": [
    "'''\n",
    "    L = w^3\n",
    "    dL/dw = 2w\n",
    "\n",
    "    w = 4\n",
    "    dL/dw = value? (Ans: 8)\n",
    "'''\n",
    "\n",
    "w = np.array([4.0])\n",
    "# w = np.array([4.0, 5.0, 8.0])\n",
    "# print(w)\n",
    "\n",
    "# converting numpy as tensor\n",
    "w_tensor = tf.Variable(w)\n",
    "# print(w_tensor)\n",
    "\n",
    "with tf.GradientTape() as tape:\n",
    "    L = w_tensor*w_tensor\n",
    "\n",
    "dl_by_dw = tape.gradient(L, w_tensor)\n",
    "\n",
    "print(dl_by_dw)\n",
    "print(dl_by_dw.numpy()) # convering to numpy again"
   ]
  },
  {
   "cell_type": "code",
   "execution_count": 39,
   "metadata": {},
   "outputs": [
    {
     "name": "stdout",
     "output_type": "stream",
     "text": [
      "[1.02618796e-09]\n"
     ]
    }
   ],
   "source": [
    "'''\n",
    "    z = 3 + 10x\n",
    "    a = 1 / (1 + e^-z)\n",
    "'''\n",
    "\n",
    "x = np.array([2.0])\n",
    "x_tensor = tf.Variable(x)\n",
    "\n",
    "# persistent = True -> without this .gradient() can't be called second time\n",
    "with tf.GradientTape(persistent=True) as tape: \n",
    "    # z = 3 + 10x\n",
    "    z = 3 + 10*x_tensor\n",
    "    a = 1 / ( 1 + tf.exp(-z) )\n",
    "\n",
    "da_by_dx = tape.gradient(a, x_tensor)\n",
    "print(da_by_dx.numpy())"
   ]
  }
 ],
 "metadata": {
  "kernelspec": {
   "display_name": "Python 3",
   "language": "python",
   "name": "python3"
  },
  "language_info": {
   "codemirror_mode": {
    "name": "ipython",
    "version": 3
   },
   "file_extension": ".py",
   "mimetype": "text/x-python",
   "name": "python",
   "nbconvert_exporter": "python",
   "pygments_lexer": "ipython3",
   "version": "3.12.3"
  }
 },
 "nbformat": 4,
 "nbformat_minor": 2
}
