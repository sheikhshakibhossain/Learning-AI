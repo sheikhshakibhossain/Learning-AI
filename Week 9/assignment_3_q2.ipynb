{
 "cells": [
  {
   "cell_type": "code",
   "execution_count": 167,
   "metadata": {},
   "outputs": [],
   "source": [
    "import tensorflow as tf\n",
    "import numpy as np"
   ]
  },
  {
   "cell_type": "markdown",
   "metadata": {},
   "source": [
    "Consider the following equations. Using the tensorflow gradient tape, determine gradients of p with respect to x\n",
    "and y evaluated at x=2 and y=10\n",
    "- z = x<sup>2</sup> . sin(y)\n",
    "- a = z<sup>3</sup> + e<sup>z</sup>\n",
    "- p = ln(a) + a<sup>2</sup>"
   ]
  },
  {
   "cell_type": "code",
   "execution_count": 168,
   "metadata": {},
   "outputs": [],
   "source": [
    "x_val = np.array([2.0])\n",
    "y_val = np.array([10.0])\n",
    "\n",
    "x = tf.Variable(x_val)\n",
    "y = tf.Variable(y_val)"
   ]
  },
  {
   "cell_type": "code",
   "execution_count": 169,
   "metadata": {},
   "outputs": [
    {
     "name": "stdout",
     "output_type": "stream",
     "text": [
      "gradients of p with respect to x = [638.17183202]\n",
      "gradients of p with respect to y = [984.28499223]\n"
     ]
    }
   ],
   "source": [
    "with tf.GradientTape(persistent=True) as tape:\n",
    "    z = (x**2) * tf.sin(y)\n",
    "    # print(z)\n",
    "    a = (z**3) + tf.exp(z)\n",
    "    # print(a)\n",
    "    p = tf.math.log(a) + (a**2)\n",
    "    # print(p)\n",
    "\n",
    "dp_by_dx = tape.gradient(p, x)\n",
    "# print(dp_by_dx)\n",
    "dp_by_dy = tape.gradient(p, y)\n",
    "# print(dp_by_dy)\n",
    "\n",
    "print(f'gradients of p with respect to x = {dp_by_dx.numpy()}')\n",
    "print(f'gradients of p with respect to y = {dp_by_dy.numpy()}')\n"
   ]
  }
 ],
 "metadata": {
  "kernelspec": {
   "display_name": "Python 3",
   "language": "python",
   "name": "python3"
  },
  "language_info": {
   "codemirror_mode": {
    "name": "ipython",
    "version": 3
   },
   "file_extension": ".py",
   "mimetype": "text/x-python",
   "name": "python",
   "nbconvert_exporter": "python",
   "pygments_lexer": "ipython3",
   "version": "3.12.3"
  }
 },
 "nbformat": 4,
 "nbformat_minor": 2
}
