{
  "cells": [
    {
      "cell_type": "code",
      "execution_count": 1,
      "metadata": {
        "id": "A2K_ktvIm-l5"
      },
      "outputs": [],
      "source": [
        "import copy\n",
        "\n",
        "class State:\n",
        "\n",
        "    def __init__(self):\n",
        "\n",
        "        # left: 0\n",
        "        # right: 1\n",
        "        self.cabbage = 0\n",
        "        self.wolf = 0\n",
        "        self.sheep = 0\n",
        "        self.man = 0\n",
        "        self.parent = None\n",
        "\n",
        "\n",
        "\n",
        "    def move_sheep_to_right(self):\n",
        "        child = copy.deepcopy(self)\n",
        "        if self.man == 0 and self.sheep == 0:\n",
        "            child.man = 1\n",
        "            child.sheep = 1\n",
        "\n",
        "        return child\n",
        "\n",
        "    def move_sheep_to_left(self):\n",
        "        child = copy.deepcopy(self)\n",
        "        if self.man == 1 and self.sheep == 1:\n",
        "            child.man = 0\n",
        "            child.sheep = 0\n",
        "\n",
        "        return child\n",
        "\n",
        "\n",
        "    def move_wolf_to_right(self):\n",
        "        child = copy.deepcopy(self)\n",
        "        if self.man == 0 and self.wolf == 0:\n",
        "            child.man = 1\n",
        "            child.wolf = 1\n",
        "\n",
        "        return child\n",
        "\n",
        "    def move_wolf_to_left(self):\n",
        "        child = copy.deepcopy(self)\n",
        "        if self.man == 1 and self.wolf == 1:\n",
        "            child.man = 0\n",
        "            child.wolf = 0\n",
        "\n",
        "        return child\n",
        "\n",
        "    def move_cabbage_to_right(self):\n",
        "        child = copy.deepcopy(self)\n",
        "        if self.man == 0 and self.cabbage == 0:\n",
        "            child.man = 1\n",
        "            child.cabbage = 1\n",
        "\n",
        "        return child\n",
        "\n",
        "    def move_cabbage_to_left(self):\n",
        "        child = copy.deepcopy(self)\n",
        "        if self.man == 1 and self.cabbage == 1:\n",
        "            child.man = 0\n",
        "            child.cabbage = 0\n",
        "\n",
        "        return child\n",
        "\n",
        "    def move_man_to_left(self):\n",
        "        child = copy.deepcopy(self)\n",
        "        if self.man == 1:\n",
        "            child.man = 0\n",
        "        return child\n",
        "\n",
        "    def move_man_to_right(self):\n",
        "        child = copy.deepcopy(self)\n",
        "        if self.man == 0:\n",
        "            child.man = 1\n",
        "        return child\n",
        "\n",
        "\n",
        "    def __str__(self):\n",
        "        return(f'cabbage:{self.cabbage}, wolf:{self.wolf}, sheep:{self.sheep}, man:{self.man}')\n",
        "\n",
        "\n",
        "    def __eq__(self, other):\n",
        "        if other is None:\n",
        "            return False\n",
        "        return self.cabbage==other.cabbage and self.sheep==other.sheep and self.wolf==other.wolf and self.man==other.man\n",
        "\n",
        "\n",
        "    def __hash__(self):\n",
        "        return hash((self.cabbage, self.wolf, self.man, self.sheep))\n",
        "\n",
        "\n",
        "    def gameOver(self):\n",
        "        return (self.man == 0 and self.cabbage == 1 and self.sheep == 1) or (self.man == 1 and self.cabbage == 0 and self.sheep == 0) or (self.man == 0 and self.wolf == 1 and self.sheep == 1) or (self.man == 1 and self.wolf == 0 and self.sheep == 0)\n",
        "\n",
        "    def goalTest(self):\n",
        "        return (self.man == 1 and self.cabbage == 1 and self.sheep == 1 and self.wolf == 1)"
      ]
    },
    {
      "cell_type": "code",
      "execution_count": 2,
      "metadata": {
        "id": "8pHInQc1m-l8"
      },
      "outputs": [],
      "source": [
        "def BFS(initialNode):\n",
        "\n",
        "    frontier = list()\n",
        "    explored = set()\n",
        "\n",
        "    frontier.append(initialNode)\n",
        "\n",
        "    while True:\n",
        "\n",
        "        if len(frontier) == 0:\n",
        "            print('no solution')\n",
        "            return None\n",
        "\n",
        "        node = frontier.pop(0)\n",
        "        explored.add(node)\n",
        "\n",
        "        actions = [\n",
        "                    node.move_sheep_to_right, node.move_sheep_to_left,\n",
        "                    node.move_cabbage_to_right, node.move_cabbage_to_left,\n",
        "                    node.move_wolf_to_right, node.move_wolf_to_left,\n",
        "                    node.move_man_to_left, node.move_man_to_right\n",
        "                  ]\n",
        "\n",
        "        for action in actions:\n",
        "            child = action()\n",
        "            # print(child)\n",
        "\n",
        "            if (child not in frontier) and (child not in explored):\n",
        "\n",
        "                child.parent = node\n",
        "\n",
        "                if child.goalTest():\n",
        "                    return child\n",
        "\n",
        "                if not child.gameOver():\n",
        "                    # print(child)\n",
        "                    frontier.append(child)\n"
      ]
    },
    {
      "cell_type": "code",
      "execution_count": 3,
      "metadata": {
        "id": "btpa5Mxh9fqI"
      },
      "outputs": [],
      "source": [
        "def tracePath(result):\n",
        "    if result == None:\n",
        "        return\n",
        "\n",
        "    if result.parent == None:\n",
        "        print(result)\n",
        "    else:\n",
        "        tracePath(result.parent)\n",
        "        print(result)"
      ]
    },
    {
      "cell_type": "code",
      "execution_count": 4,
      "metadata": {
        "id": "CxoB4cZrm-l9"
      },
      "outputs": [],
      "source": [
        "def printPath(result):\n",
        "    if result == None:\n",
        "        return\n",
        "\n",
        "    if result.parent == None:\n",
        "        # print(result)\n",
        "        pass\n",
        "    else:\n",
        "        printPath(result.parent)\n",
        "        # print(result)\n",
        "        if result.parent.man == 0 and result.man == 1:\n",
        "            if result.parent.cabbage != result.cabbage:\n",
        "                print(\"boat moved to right with cabbage\")\n",
        "            elif result.parent.wolf != result.wolf:\n",
        "                print(\"boat moved to right with wolf\")\n",
        "            elif result.parent.sheep != result.sheep:\n",
        "                print(\"boat moved to right with sheep\")\n",
        "            else:\n",
        "                print(\"boat moved to right\")\n",
        "\n",
        "\n",
        "        else:\n",
        "            if result.parent.cabbage != result.cabbage:\n",
        "                print(\"boat moved to left with cabbage\")\n",
        "            elif result.parent.wolf != result.wolf:\n",
        "                print(\"boat moved to left with wolf\")\n",
        "            elif result.parent.sheep != result.sheep:\n",
        "                print(\"boat moved to left with sheep\")\n",
        "            else:\n",
        "                print(\"boat moved to left\")\n",
        "\n"
      ]
    },
    {
      "cell_type": "code",
      "execution_count": 5,
      "metadata": {
        "colab": {
          "base_uri": "https://localhost:8080/"
        },
        "id": "MhfH7nTnm-l9",
        "outputId": "5178c0b6-b1a8-4cd1-c618-cdb8a323a9f8"
      },
      "outputs": [
        {
          "name": "stdout",
          "output_type": "stream",
          "text": [
            "cabbage:1, wolf:1, sheep:1, man:1\n"
          ]
        }
      ],
      "source": [
        "start = State()\n",
        "\n",
        "# print(start)\n",
        "# s1 = start.move_cabbage_to_right()\n",
        "\n",
        "result = BFS(start)\n",
        "print(result)"
      ]
    },
    {
      "cell_type": "code",
      "execution_count": 6,
      "metadata": {
        "colab": {
          "base_uri": "https://localhost:8080/"
        },
        "id": "sTUIL-vv9mni",
        "outputId": "dece9ed9-7b30-44ce-9dfd-ff23495568e3"
      },
      "outputs": [
        {
          "name": "stdout",
          "output_type": "stream",
          "text": [
            "cabbage:0, wolf:0, sheep:0, man:0\n",
            "cabbage:0, wolf:0, sheep:1, man:1\n",
            "cabbage:0, wolf:0, sheep:1, man:0\n",
            "cabbage:1, wolf:0, sheep:1, man:1\n",
            "cabbage:1, wolf:0, sheep:0, man:0\n",
            "cabbage:1, wolf:1, sheep:0, man:1\n",
            "cabbage:1, wolf:1, sheep:0, man:0\n",
            "cabbage:1, wolf:1, sheep:1, man:1\n"
          ]
        }
      ],
      "source": [
        "tracePath(result)"
      ]
    },
    {
      "cell_type": "code",
      "execution_count": 7,
      "metadata": {
        "colab": {
          "base_uri": "https://localhost:8080/"
        },
        "id": "d4-dNehA8kt7",
        "outputId": "6a69a11f-6731-4e58-a943-ac88e876e451"
      },
      "outputs": [
        {
          "name": "stdout",
          "output_type": "stream",
          "text": [
            "boat moved to right with sheep\n",
            "boat moved to left\n",
            "boat moved to right with cabbage\n",
            "boat moved to left with sheep\n",
            "boat moved to right with wolf\n",
            "boat moved to left\n",
            "boat moved to right with sheep\n"
          ]
        }
      ],
      "source": [
        "printPath(result)"
      ]
    }
  ],
  "metadata": {
    "colab": {
      "provenance": []
    },
    "kernelspec": {
      "display_name": "Python 3",
      "language": "python",
      "name": "python3"
    },
    "language_info": {
      "codemirror_mode": {
        "name": "ipython",
        "version": 3
      },
      "file_extension": ".py",
      "mimetype": "text/x-python",
      "name": "python",
      "nbconvert_exporter": "python",
      "pygments_lexer": "ipython3",
      "version": "3.10.12"
    }
  },
  "nbformat": 4,
  "nbformat_minor": 0
}
