{
 "cells": [
  {
   "cell_type": "code",
   "execution_count": 7,
   "metadata": {},
   "outputs": [],
   "source": [
    "import numpy as np\n",
    "import pandas as pd\n",
    "import matplotlib.pyplot as plt"
   ]
  },
  {
   "cell_type": "code",
   "execution_count": 8,
   "metadata": {},
   "outputs": [],
   "source": [
    "data_file = 'polynomial_regression_dataset.csv'"
   ]
  },
  {
   "cell_type": "code",
   "execution_count": 9,
   "metadata": {},
   "outputs": [
    {
     "data": {
      "text/html": [
       "<div>\n",
       "<style scoped>\n",
       "    .dataframe tbody tr th:only-of-type {\n",
       "        vertical-align: middle;\n",
       "    }\n",
       "\n",
       "    .dataframe tbody tr th {\n",
       "        vertical-align: top;\n",
       "    }\n",
       "\n",
       "    .dataframe thead th {\n",
       "        text-align: right;\n",
       "    }\n",
       "</style>\n",
       "<table border=\"1\" class=\"dataframe\">\n",
       "  <thead>\n",
       "    <tr style=\"text-align: right;\">\n",
       "      <th></th>\n",
       "      <th>x</th>\n",
       "      <th>y</th>\n",
       "    </tr>\n",
       "  </thead>\n",
       "  <tbody>\n",
       "    <tr>\n",
       "      <th>0</th>\n",
       "      <td>3.745401</td>\n",
       "      <td>16.491986</td>\n",
       "    </tr>\n",
       "    <tr>\n",
       "      <th>1</th>\n",
       "      <td>9.507143</td>\n",
       "      <td>67.521418</td>\n",
       "    </tr>\n",
       "    <tr>\n",
       "      <th>2</th>\n",
       "      <td>7.319939</td>\n",
       "      <td>43.522611</td>\n",
       "    </tr>\n",
       "    <tr>\n",
       "      <th>3</th>\n",
       "      <td>5.986585</td>\n",
       "      <td>31.480465</td>\n",
       "    </tr>\n",
       "    <tr>\n",
       "      <th>4</th>\n",
       "      <td>1.560186</td>\n",
       "      <td>8.803112</td>\n",
       "    </tr>\n",
       "    <tr>\n",
       "      <th>5</th>\n",
       "      <td>1.559945</td>\n",
       "      <td>7.110829</td>\n",
       "    </tr>\n",
       "    <tr>\n",
       "      <th>6</th>\n",
       "      <td>0.580836</td>\n",
       "      <td>4.397886</td>\n",
       "    </tr>\n",
       "    <tr>\n",
       "      <th>7</th>\n",
       "      <td>8.661761</td>\n",
       "      <td>56.411831</td>\n",
       "    </tr>\n",
       "    <tr>\n",
       "      <th>8</th>\n",
       "      <td>6.011150</td>\n",
       "      <td>32.544880</td>\n",
       "    </tr>\n",
       "    <tr>\n",
       "      <th>9</th>\n",
       "      <td>7.080726</td>\n",
       "      <td>42.340713</td>\n",
       "    </tr>\n",
       "    <tr>\n",
       "      <th>10</th>\n",
       "      <td>0.205845</td>\n",
       "      <td>2.281882</td>\n",
       "    </tr>\n",
       "    <tr>\n",
       "      <th>11</th>\n",
       "      <td>9.699099</td>\n",
       "      <td>69.810151</td>\n",
       "    </tr>\n",
       "    <tr>\n",
       "      <th>12</th>\n",
       "      <td>8.324426</td>\n",
       "      <td>53.696252</td>\n",
       "    </tr>\n",
       "    <tr>\n",
       "      <th>13</th>\n",
       "      <td>2.123391</td>\n",
       "      <td>9.209483</td>\n",
       "    </tr>\n",
       "    <tr>\n",
       "      <th>14</th>\n",
       "      <td>1.818250</td>\n",
       "      <td>7.687809</td>\n",
       "    </tr>\n",
       "    <tr>\n",
       "      <th>15</th>\n",
       "      <td>1.834045</td>\n",
       "      <td>10.202229</td>\n",
       "    </tr>\n",
       "    <tr>\n",
       "      <th>16</th>\n",
       "      <td>3.042422</td>\n",
       "      <td>13.699515</td>\n",
       "    </tr>\n",
       "    <tr>\n",
       "      <th>17</th>\n",
       "      <td>5.247564</td>\n",
       "      <td>26.205883</td>\n",
       "    </tr>\n",
       "    <tr>\n",
       "      <th>18</th>\n",
       "      <td>4.319450</td>\n",
       "      <td>21.790270</td>\n",
       "    </tr>\n",
       "    <tr>\n",
       "      <th>19</th>\n",
       "      <td>2.912291</td>\n",
       "      <td>11.844460</td>\n",
       "    </tr>\n",
       "  </tbody>\n",
       "</table>\n",
       "</div>"
      ],
      "text/plain": [
       "           x          y\n",
       "0   3.745401  16.491986\n",
       "1   9.507143  67.521418\n",
       "2   7.319939  43.522611\n",
       "3   5.986585  31.480465\n",
       "4   1.560186   8.803112\n",
       "5   1.559945   7.110829\n",
       "6   0.580836   4.397886\n",
       "7   8.661761  56.411831\n",
       "8   6.011150  32.544880\n",
       "9   7.080726  42.340713\n",
       "10  0.205845   2.281882\n",
       "11  9.699099  69.810151\n",
       "12  8.324426  53.696252\n",
       "13  2.123391   9.209483\n",
       "14  1.818250   7.687809\n",
       "15  1.834045  10.202229\n",
       "16  3.042422  13.699515\n",
       "17  5.247564  26.205883\n",
       "18  4.319450  21.790270\n",
       "19  2.912291  11.844460"
      ]
     },
     "execution_count": 9,
     "metadata": {},
     "output_type": "execute_result"
    }
   ],
   "source": [
    "data_frame = pd.read_csv(data_file)\n",
    "data_frame"
   ]
  },
  {
   "cell_type": "code",
   "execution_count": 10,
   "metadata": {},
   "outputs": [
    {
     "data": {
      "text/plain": [
       "array([[ 3.74540119, 16.49198629],\n",
       "       [ 9.50714306, 67.52141808],\n",
       "       [ 7.31993942, 43.5226113 ],\n",
       "       [ 5.98658484, 31.48046502],\n",
       "       [ 1.5601864 ,  8.80311239],\n",
       "       [ 1.5599452 ,  7.11082862],\n",
       "       [ 0.58083612,  4.39788575],\n",
       "       [ 8.66176146, 56.4118305 ],\n",
       "       [ 6.01115012, 32.54488038],\n",
       "       [ 7.08072578, 42.34071292],\n",
       "       [ 0.20584494,  2.28188238],\n",
       "       [ 9.69909852, 69.81015113],\n",
       "       [ 8.32442641, 53.69625164],\n",
       "       [ 2.12339111,  9.20948336],\n",
       "       [ 1.81824967,  7.68780867],\n",
       "       [ 1.8340451 , 10.20222909],\n",
       "       [ 3.04242243, 13.69951475],\n",
       "       [ 5.24756432, 26.20588333],\n",
       "       [ 4.31945019, 21.79027024],\n",
       "       [ 2.9122914 , 11.84445976]])"
      ]
     },
     "execution_count": 10,
     "metadata": {},
     "output_type": "execute_result"
    }
   ],
   "source": [
    "data_array = np.array(data_frame)\n",
    "data_array = data_array.astype(float)\n",
    "data_array"
   ]
  },
  {
   "cell_type": "code",
   "execution_count": 11,
   "metadata": {},
   "outputs": [
    {
     "data": {
      "image/png": "[encoded data removed]",
      "text/plain": [
       "<Figure size 640x480 with 1 Axes>"
      ]
     },
     "metadata": {},
     "output_type": "display_data"
    }
   ],
   "source": [
    "x_axis = data_array[:, 0] # all sq. feet data\n",
    "y_axis = data_array[:, 1] # all house rent data\n",
    "plt.scatter(x=x_axis, y=y_axis, color='BLUE', label='Data Points')\n",
    "\n",
    "# adding lebels and title\n",
    "plt.xlabel('Sq. feet')\n",
    "plt.ylabel('House Rent')\n",
    "plt.title('House rent vs Sq. feet')\n",
    "plt.legend()\n",
    "\n",
    "# show the plot\n",
    "plt.show()"
   ]
  }
 ],
 "metadata": {
  "kernelspec": {
   "display_name": "Python 3",
   "language": "python",
   "name": "python3"
  },
  "language_info": {
   "codemirror_mode": {
    "name": "ipython",
    "version": 3
   },
   "file_extension": ".py",
   "mimetype": "text/x-python",
   "name": "python",
   "nbconvert_exporter": "python",
   "pygments_lexer": "ipython3",
   "version": "3.12.3"
  }
 },
 "nbformat": 4,
 "nbformat_minor": 2
}
