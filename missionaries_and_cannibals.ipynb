{
  "cells": [
    {
      "cell_type": "code",
      "execution_count": null,
      "metadata": {
        "id": "LAMmxqPF6n_R"
      },
      "outputs": [],
      "source": [
        "import copy\n",
        "\n",
        "class State:\n",
        "\n",
        "  def __init__(self):\n",
        "\n",
        "    self.missionaryLeft = 3\n",
        "    self.missionaryRight = 0\n",
        "    self.cannibalLeft = 3\n",
        "    self.cannibalRight = 0\n",
        "    self.boat = 'left'\n",
        "    self.parent = None\n",
        "\n",
        "  def move_one_missionary_right(self):\n",
        "    child = copy.deepcopy(self)\n",
        "    if self.boat == 'left' and self.missionaryLeft > 0:\n",
        "      child.missionaryLeft -= 1\n",
        "      child.missionaryRight += 1\n",
        "      child.boat = 'right'\n",
        "    return child\n",
        "\n",
        "  def move_two_missionaries_right(self):\n",
        "    child = copy.deepcopy(self)\n",
        "    if self.boat == 'left' and self.missionaryLeft > 1:\n",
        "      child.missionaryLeft -= 2\n",
        "      child.missionaryRight += 2\n",
        "      child.boat = 'right'\n",
        "    return child\n",
        "\n",
        "  def move_one_cannibal_right(self):\n",
        "    child = copy.deepcopy(self)\n",
        "    if self.boat == 'left' and self.cannibalLeft > 0:\n",
        "      child.cannibalLeft -= 1\n",
        "      child.cannibalRight += 1\n",
        "      child.boat = 'right'\n",
        "    return child\n",
        "\n",
        "  def move_two_cannibals_right(self):\n",
        "    child = copy.deepcopy(self)\n",
        "    if self.boat == 'left' and self.cannibalLeft > 1:\n",
        "      child.cannibalLeft -= 2\n",
        "      child.cannibalRight += 2\n",
        "      child.boat = 'right'\n",
        "    return child\n",
        "\n",
        "\n",
        "  def move_one_missionary_and_cannibal_right(self):\n",
        "    child = copy.deepcopy(self)\n",
        "    if self.boat == 'left' and self.missionaryLeft > 0 and self.cannibalLeft > 0:\n",
        "      child.missionaryLeft -= 1\n",
        "      child.missionaryRight += 1\n",
        "      child.cannibalLeft -= 1\n",
        "      child.cannibalRight += 1\n",
        "      child.boat = 'right'\n",
        "    return child\n",
        "\n",
        "\n",
        "  def move_one_missionary_left(self):\n",
        "    child = copy.deepcopy(self)\n",
        "    if self.boat == 'right' and self.missionaryRight > 0:\n",
        "      child.missionaryRight -= 1\n",
        "      child.missionaryLeft += 1\n",
        "      child.boat = 'left'\n",
        "    return child\n",
        "\n",
        "\n",
        "  def move_one_cannibal_left(self):\n",
        "    child = copy.deepcopy(self)\n",
        "    if self.boat == 'right' and self.cannibalRight > 0:\n",
        "      child.cannibalRight -= 1\n",
        "      child.cannibalLeft += 1\n",
        "      child.boat = 'left'\n",
        "    return child\n",
        "\n",
        "\n",
        "  def move_two_missionaries_left(self):\n",
        "    child = copy.deepcopy(self)\n",
        "    if self.boat == 'right' and self.missionaryRight > 1:\n",
        "      child.missionaryRight -= 2\n",
        "      child.missionaryLeft += 2\n",
        "      child.boat = 'left'\n",
        "    return child\n",
        "\n",
        "  def move_two_cannibals_left(self):\n",
        "    child = copy.deepcopy(self)\n",
        "    if self.boat == 'right' and self.cannibalRight > 1:\n",
        "      child.cannibalRight -= 2\n",
        "      child.cannibalLeft += 2\n",
        "      child.boat = 'left'\n",
        "    return child\n",
        "\n",
        "\n",
        "  def move_one_missionary_and_cannibal_left(self):\n",
        "    child = copy.deepcopy(self)\n",
        "    if self.boat == 'right' and self.missionaryRight > 0 and self.cannibalRight > 0:\n",
        "      child.missionaryRight -= 1\n",
        "      child.missionaryLeft += 1\n",
        "      child.cannibalRight -= 1\n",
        "      child.cannibalLeft += 1\n",
        "      child.boat = 'left'\n",
        "    return child\n",
        "\n",
        "\n",
        "\n",
        "  def gameOver(self):\n",
        "      # missionary exists on a side and cannibals outruns them in that side\n",
        "      if (self.missionaryLeft > 0 and self.cannibalLeft > self.missionaryLeft) or (self.missionaryRight > 0 and self.cannibalRight > self.missionaryRight):\n",
        "          return True\n",
        "      return False\n",
        "\n",
        "\n",
        "  def goalTest(self):\n",
        "    return self.boat == 'right' and self.missionaryRight == 3 and self.cannibalRight == 3\n",
        "\n",
        "\n",
        "  def __hash__(self):\n",
        "    return hash( (self.missionaryLeft, self.missionaryRight, self.cannibalLeft, self.cannibalRight, self.boat) )\n",
        "\n",
        "\n",
        "  def __eq__(self, other):\n",
        "    if other is None:\n",
        "      return False\n",
        "    return self.missionaryLeft == other.missionaryLeft and self.missionaryRight == other.missionaryRight and self.cannibalLeft == other.cannibalLeft and self.cannibalRight == other.cannibalRight and self.boat == other.boat\n",
        "\n",
        "\n",
        "  def __str__(self):\n",
        "    return f'missionaryLeft:{self.missionaryLeft}, cannibalLeft:{self.cannibalLeft}, missionaryRight:{self.missionaryRight}, cannibalRight:{self.cannibalRight}, boat:{self.boat}'"
      ]
    },
    {
      "cell_type": "code",
      "execution_count": null,
      "metadata": {
        "colab": {
          "base_uri": "https://localhost:8080/"
        },
        "id": "E4BjkT2tDAj4",
        "outputId": "93b5b224-f8a9-4355-8fa8-a682aea0f538"
      },
      "outputs": [
        {
          "output_type": "stream",
          "name": "stdout",
          "text": [
            "missionaryLeft:2, cannibalLeft:3, missionaryRight:1, cannibalRight:0, boat:right\n"
          ]
        }
      ],
      "source": [
        "child = State()\n",
        "child1 = child.move_one_missionary_right()\n",
        "print(child1)"
      ]
    },
    {
      "cell_type": "code",
      "execution_count": null,
      "metadata": {
        "colab": {
          "base_uri": "https://localhost:8080/"
        },
        "id": "2Bd9cPIXMStK",
        "outputId": "dcf4a953-2f3e-44b1-b848-4f64b8d0f640"
      },
      "outputs": [
        {
          "output_type": "stream",
          "name": "stdout",
          "text": [
            "missionaryLeft:3, cannibalLeft:3, missionaryRight:0, cannibalRight:0, boat:left\n",
            "missionaryLeft:2, cannibalLeft:3, missionaryRight:1, cannibalRight:0, boat:right\n",
            "True\n",
            "False\n",
            "True\n",
            "missionaryLeft:2, cannibalLeft:3, missionaryRight:1, cannibalRight:0, boat:right\n",
            "missionaryLeft:3, cannibalLeft:3, missionaryRight:0, cannibalRight:0, boat:left\n"
          ]
        }
      ],
      "source": [
        "x = State()\n",
        "x1 = x.move_one_missionary_right()\n",
        "print(x)\n",
        "\n",
        "y = State()\n",
        "print(x1)\n",
        "\n",
        "print(x == y)\n",
        "print(x1 == y)\n",
        "\n",
        "\n",
        "y1 = y.move_one_missionary_right()\n",
        "print(y1 == x1)\n",
        "\n",
        "\n",
        "s = set()\n",
        "s.add(x)\n",
        "s.add(y)\n",
        "s.add(x1)\n",
        "\n",
        "for i in s:\n",
        "  print(i)"
      ]
    },
    {
      "cell_type": "code",
      "execution_count": null,
      "metadata": {
        "id": "EUF-EoxWOnTz"
      },
      "outputs": [],
      "source": [
        "def BFS(initialNode):\n",
        "    frontier = list()\n",
        "    explored = set()\n",
        "\n",
        "    frontier.append(initialNode)\n",
        "\n",
        "    while True:\n",
        "        if len(frontier) == 0:\n",
        "            print(\"No solution\")\n",
        "            return None\n",
        "\n",
        "        node = frontier.pop(0)\n",
        "        explored.add(node)\n",
        "\n",
        "        actions = [node.move_one_missionary_right, node.move_one_cannibal_right, node.move_two_missionaries_right,\n",
        "                   node.move_two_cannibals_right, node.move_one_missionary_and_cannibal_right, node.move_one_missionary_left,\n",
        "                   node.move_one_cannibal_left, node.move_two_cannibals_left, node.move_two_missionaries_left,\n",
        "                   node.move_one_missionary_and_cannibal_left]\n",
        "\n",
        "        for action in actions:\n",
        "            child = action()\n",
        "            # print(child)\n",
        "\n",
        "            # if child is None:\n",
        "            #     continue\n",
        "\n",
        "            # if child.gameOver():\n",
        "            #     explored.add(child)\n",
        "            #     continue\n",
        "\n",
        "            # print(child)\n",
        "            if (child not in explored) and (child not in frontier):\n",
        "                # print('not explored yet')\n",
        "                child.parent = node\n",
        "\n",
        "                if child.goalTest():\n",
        "                    return child\n",
        "\n",
        "                if child.gameOver() == False:\n",
        "                    frontier.append(child)\n"
      ]
    },
    {
      "cell_type": "code",
      "execution_count": null,
      "metadata": {
        "id": "utN4kuD4SkwB"
      },
      "outputs": [],
      "source": [
        "def printPath(node):\n",
        "  if node is None:\n",
        "    return\n",
        "\n",
        "  if node.parent == None:\n",
        "    # print(node)\n",
        "    pass\n",
        "\n",
        "  else:\n",
        "    printPath(node.parent)\n",
        "    print(node)\n"
      ]
    },
    {
      "cell_type": "code",
      "execution_count": null,
      "metadata": {
        "id": "Q0QMM5kGCo8H"
      },
      "outputs": [],
      "source": [
        "def printMoves(node):\n",
        "  if node is None:\n",
        "    return\n",
        "\n",
        "  if node.parent == None:\n",
        "    # print(node)\n",
        "    pass\n",
        "\n",
        "  else:\n",
        "    printMoves(node.parent)\n",
        "\n",
        "    # moving to right\n",
        "    print('---------------------------------------------------')\n",
        "    if node.parent.boat == 'left' and node.boat == 'right':\n",
        "      if node.missionaryLeft != node.parent.missionaryLeft and node.cannibalLeft != node.parent.cannibalLeft:\n",
        "        print(f'moving to right with {abs(node.missionaryLeft - node.parent.missionaryLeft)} missionaries and {abs(node.cannibalLeft - node.parent.cannibalLeft)} cannibals')\n",
        "      elif node.missionaryLeft != node.parent.missionaryLeft:\n",
        "        print(f'moving to right with {abs(node.missionaryLeft - node.parent.missionaryLeft)} missionaries')\n",
        "\n",
        "      elif node.cannibalLeft != node.parent.cannibalLeft:\n",
        "        print(f'moving to right with {abs(node.cannibalLeft - node.parent.cannibalLeft)} cannibals')\n",
        "\n",
        "\n",
        "    # moving to left\n",
        "    else:\n",
        "      if node.missionaryLeft != node.parent.missionaryLeft and node.cannibalLeft != node.parent.cannibalLeft:\n",
        "        print(f'moving to left with {abs(node.missionaryLeft - node.parent.missionaryLeft)} missionaries and {abs(node.cannibalLeft - node.parent.cannibalLeft)} cannibals')\n",
        "      elif node.missionaryRight != node.parent.missionaryRight:\n",
        "        print(f'moving to left with {abs(node.missionaryRight - node.parent.missionaryRight)} missionaries ')\n",
        "\n",
        "      elif node.cannibalRight != node.parent.cannibalRight:\n",
        "        print(f'moving to left with {abs(node.cannibalRight - node.parent.cannibalRight)} cannibals')\n",
        "    # print('---------------------------------------------------')\n",
        "\n"
      ]
    },
    {
      "cell_type": "code",
      "execution_count": null,
      "metadata": {
        "id": "wN5SHf9ISb4h"
      },
      "outputs": [],
      "source": [
        "node = State()\n",
        "result = BFS(node)\n",
        "\n"
      ]
    },
    {
      "cell_type": "code",
      "source": [
        "printPath(result)"
      ],
      "metadata": {
        "colab": {
          "base_uri": "https://localhost:8080/"
        },
        "id": "AAB9gCwbDykx",
        "outputId": "de2d8f09-c3fb-4761-b92c-9a3ca930ef98"
      },
      "execution_count": null,
      "outputs": [
        {
          "output_type": "stream",
          "name": "stdout",
          "text": [
            "missionaryLeft:3, cannibalLeft:1, missionaryRight:0, cannibalRight:2, boat:right\n",
            "missionaryLeft:3, cannibalLeft:2, missionaryRight:0, cannibalRight:1, boat:left\n",
            "missionaryLeft:3, cannibalLeft:0, missionaryRight:0, cannibalRight:3, boat:right\n",
            "missionaryLeft:3, cannibalLeft:1, missionaryRight:0, cannibalRight:2, boat:left\n",
            "missionaryLeft:1, cannibalLeft:1, missionaryRight:2, cannibalRight:2, boat:right\n",
            "missionaryLeft:2, cannibalLeft:2, missionaryRight:1, cannibalRight:1, boat:left\n",
            "missionaryLeft:0, cannibalLeft:2, missionaryRight:3, cannibalRight:1, boat:right\n",
            "missionaryLeft:0, cannibalLeft:3, missionaryRight:3, cannibalRight:0, boat:left\n",
            "missionaryLeft:0, cannibalLeft:1, missionaryRight:3, cannibalRight:2, boat:right\n",
            "missionaryLeft:1, cannibalLeft:1, missionaryRight:2, cannibalRight:2, boat:left\n",
            "missionaryLeft:0, cannibalLeft:0, missionaryRight:3, cannibalRight:3, boat:right\n"
          ]
        }
      ]
    },
    {
      "cell_type": "code",
      "source": [
        "printMoves(result)"
      ],
      "metadata": {
        "colab": {
          "base_uri": "https://localhost:8080/"
        },
        "id": "-ejKOLQKD1aZ",
        "outputId": "3ee33832-aa53-45a5-d326-a39bb584bed9"
      },
      "execution_count": null,
      "outputs": [
        {
          "output_type": "stream",
          "name": "stdout",
          "text": [
            "---------------------------------------------------\n",
            "moving to right with 2 cannibals\n",
            "---------------------------------------------------\n",
            "moving to left with 1 cannibals\n",
            "---------------------------------------------------\n",
            "moving to right with 2 cannibals\n",
            "---------------------------------------------------\n",
            "moving to left with 1 cannibals\n",
            "---------------------------------------------------\n",
            "moving to right with 2 missionaries\n",
            "---------------------------------------------------\n",
            "moving to left with 1 missionaries and 1 cannibals\n",
            "---------------------------------------------------\n",
            "moving to right with 2 missionaries\n",
            "---------------------------------------------------\n",
            "moving to left with 1 cannibals\n",
            "---------------------------------------------------\n",
            "moving to right with 2 cannibals\n",
            "---------------------------------------------------\n",
            "moving to left with 1 missionaries \n",
            "---------------------------------------------------\n",
            "moving to right with 1 missionaries and 1 cannibals\n"
          ]
        }
      ]
    }
  ],
  "metadata": {
    "colab": {
      "provenance": []
    },
    "kernelspec": {
      "display_name": "Python 3",
      "name": "python3"
    },
    "language_info": {
      "codemirror_mode": {
        "name": "ipython",
        "version": 3
      },
      "file_extension": ".py",
      "mimetype": "text/x-python",
      "name": "python",
      "nbconvert_exporter": "python",
      "pygments_lexer": "ipython3",
      "version": "3.10.12"
    }
  },
  "nbformat": 4,
  "nbformat_minor": 0
}